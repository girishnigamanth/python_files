{
 "cells": [
  {
   "cell_type": "code",
   "execution_count": 1,
   "metadata": {},
   "outputs": [],
   "source": [
    "import xarray as xr\n",
    "import numpy as np\n",
    "import netCDF4 as nc\n",
    "import os\n",
    "import metpy.calc as mpcalc\n",
    "from metpy.units import units\n",
    "\n",
    "ncpath='/fs/ess/PFS0220/eurec4a/case_feb9th_144_100m_2/eurec4a.default.0000000.nc'\n",
    "nc_out_path = '/fs/ess/PFS0220/eurec4a/microhh_results/eurec4a_feb9_512_200m_30kmtop_1.nc'\n",
    "\n",
    "\n",
    "microhh_out=xr.open_dataset(ncpath,decode_times=True)\n",
    "rootgroup = nc.Dataset(ncpath,\"r\")\n",
    "for group in rootgroup.groups:\n",
    "    microhh_out=xr.merge([microhh_out, xr.open_dataset(ncpath,group=group,decode_times=True)])\n",
    "\n",
    "def rename_vars(ds):\n",
    "    ds['ps']=ds['phydroh'].isel(zh=0)\n",
    "    ds['ts']=ds['T'].isel(z=0)\n",
    "    ds['wspd']=ds['u'].isel(z=0)\n",
    "    for i in range(1,ds['time'].size):\n",
    "        ds['ts'][i]=mpcalc.temperature_from_potential_temperature(ds['ps'].isel(time=i),ds['thl_bot'].isel(time=i))\n",
    "        ds['wspd'][i]=mpcalc.wind_speed(ds['u'].isel(z=0,time=i),ds['v'].isel(z=0,time=i))\n",
    "    ds['pr']=ds['rr']\n",
    "    ds['qv']=ds['qt']\n",
    "    ds['qv']=ds['qt']-ds['ql']\n",
    "    ds['rlds']=ds['lw_flux_dn'].isel(zh=0)\n",
    "    ds['rlus']=ds['lw_flux_up'].isel(zh=0)\n",
    "    #ds=ds.rename_dims({'z':'zf'})\n",
    "    ds=ds.rename({'z':'zf','obuk':'ol','ql_path':'lwp','ql_frac':'flc','qi_path':'iwp','p':'pa','u':'ua','v':'va','rho':'rhoa','T':'ta','rh':'hur','ql':'qlc','qr':'qlr','qi':'qic','thl':'thetal'})\n",
    "    #ds=ds.rename({'xu':'x','yu':'y','zu':'z'})\n",
    "    ds['hfss']=ds['rhoa'].isel(zf=0)*1004*ds['thl_flux'].isel(zh=0)\n",
    "    ds['hfls']=ds['rhoa'].isel(zf=0)*2500000*ds['qt_flux'].isel(zh=0)\n",
    "    return ds\n",
    "\n",
    "microhh_out=rename_vars(microhh_out)\n",
    "if os.path.exists(nc_out_path):\n",
    "    os.remove(nc_out_path)\n",
    "microhh_out.to_netcdf(nc_out_path)"
   ]
  },
  {
   "cell_type": "code",
   "execution_count": null,
   "metadata": {},
   "outputs": [],
   "source": []
  }
 ],
 "metadata": {
  "kernelspec": {
   "display_name": "Python 3",
   "language": "python",
   "name": "python3"
  },
  "language_info": {
   "codemirror_mode": {
    "name": "ipython",
    "version": 3
   },
   "file_extension": ".py",
   "mimetype": "text/x-python",
   "name": "python",
   "nbconvert_exporter": "python",
   "pygments_lexer": "ipython3",
   "version": "3.9.5"
  },
  "orig_nbformat": 4
 },
 "nbformat": 4,
 "nbformat_minor": 2
}
