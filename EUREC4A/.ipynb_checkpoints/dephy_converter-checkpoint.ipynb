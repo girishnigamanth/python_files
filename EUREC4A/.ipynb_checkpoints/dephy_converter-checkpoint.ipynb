{
 "cells": [
  {
   "cell_type": "code",
   "execution_count": 1,
   "metadata": {},
   "outputs": [],
   "source": [
    "import xarray as xr\n",
    "import numpy as np\n",
    "import netCDF4 as nc\n",
    "import os\n",
    "import metpy.calc as mpcalc\n",
    "from metpy.units import units\n",
    "\n",
    "ncpath='/fs/ess/PFS0220/eurec4a/Case_Runs/Feb_9th/Test_7thfeb/eurec4a.default.0000000.nc'\n",
    "nc_out_path = '/fs/ess/PFS0220/eurec4a/microhh_results/eurec4a_Feb9_1024_150m_8kmtop_nonudge_ug_400e6_01d.nc'\n",
    "\n",
    "\n",
    "microhh_out=xr.open_dataset(ncpath,decode_times=True)\n",
    "rootgroup = nc.Dataset(ncpath,\"r\")\n",
    "for group in rootgroup.groups:\n",
    "    microhh_out=xr.merge([microhh_out, xr.open_dataset(ncpath,group=group,decode_times=True)])\n",
    "\n",
    "def rename_vars(ds):\n",
    "    ds['ps']=ds['phydroh'].isel(zh=0)\n",
    "    ds['ts']=ds['T'].isel(z=0)\n",
    "    ds['wspd']=ds['u'].isel(z=0)\n",
    "    for i in range(1,ds['time'].size):\n",
    "        ds['ts'][i]=mpcalc.temperature_from_potential_temperature(ds['ps'].isel(time=i),ds['thl_bot'].isel(time=i))\n",
    "        ds['wspd'][i]=mpcalc.wind_speed(ds['u'].isel(z=0,time=i),ds['v'].isel(z=0,time=i))\n",
    "    ds['pr']=ds['rr']\n",
    "    ds['qv']=ds['qt']\n",
    "    ds['qv']=ds['qt']-ds['ql']\n",
    "    ds['rlds']=ds['lw_flux_dn'].isel(zh=0)\n",
    "    ds['rlus']=ds['lw_flux_up'].isel(zh=0)\n",
    "    ds['rlut']=ds['lw_flux_up_ref'].isel(era_levels=140)\n",
    "    ds['rldt']=ds['lw_flux_dn_ref'].isel(era_levels=140)\n",
    "    ds['rsut']=ds['sw_flux_up_ref'].isel(era_levels=140)\n",
    "    ds['rsdt']=ds['sw_flux_dn_ref'].isel(era_levels=140)\n",
    "    ds['rst']=ds['rsdt']-ds['rsut']\n",
    "\n",
    "    #ds=ds.rename_dims({'z':'zf'})\n",
    "    ds=ds.rename({'z':'zf','obuk':'ol','ql_path':'lwp','ql_frac':'flc','qi_path':'iwp','p':'pa','u':'ua','v':'va','rho':'rhoa','T':'ta','rh':'hur','ql':'qlc','qr':'qlr','qi':'qic','thl':'thetal'})\n",
    "    #ds=ds.rename({'xu':'x','yu':'y','zu':'z'})\n",
    "    ds['hfss']=ds['rhoa'].isel(zf=0)*1004*ds['thl_flux'].isel(zh=0)\n",
    "    ds['hfls']=ds['rhoa'].isel(zf=0)*2500000*ds['qt_flux'].isel(zh=0)\n",
    "    return ds\n",
    "\n",
    "microhh_out=rename_vars(microhh_out)\n",
    "if os.path.exists(nc_out_path):\n",
    "    os.remove(nc_out_path)\n",
    "microhh_out.to_netcdf(nc_out_path)"
   ]
  },
  {
   "cell_type": "code",
   "execution_count": 1,
   "metadata": {},
   "outputs": [
    {
     "ename": "KeyboardInterrupt",
     "evalue": "",
     "output_type": "error",
     "traceback": [
      "\u001b[0;31m---------------------------------------------------------------------------\u001b[0m",
      "\u001b[0;31mKeyboardInterrupt\u001b[0m                         Traceback (most recent call last)",
      "\u001b[1;32m/fs/ess/PFS0220/python_files/EUREC4A/dephy_converter.ipynb Cell 2\u001b[0m line \u001b[0;36m1\n\u001b[1;32m      <a href='vscode-notebook-cell://ssh-remote%2Bascend.osc.edu/fs/ess/PFS0220/python_files/EUREC4A/dephy_converter.ipynb#W1sdnNjb2RlLXJlbW90ZQ%3D%3D?line=6'>7</a>\u001b[0m files_2d \u001b[39m=\u001b[39m [path\u001b[39m+\u001b[39m\u001b[39m'\u001b[39m\u001b[39mql_path.xy.nc\u001b[39m\u001b[39m'\u001b[39m,path\u001b[39m+\u001b[39m\u001b[39m'\u001b[39m\u001b[39mqr_path.xy.nc\u001b[39m\u001b[39m'\u001b[39m,path\u001b[39m+\u001b[39m\u001b[39m'\u001b[39m\u001b[39mthl.xy.nc\u001b[39m\u001b[39m'\u001b[39m,path\u001b[39m+\u001b[39m\u001b[39m'\u001b[39m\u001b[39mql_base.xy.nc\u001b[39m\u001b[39m'\u001b[39m,path\u001b[39m+\u001b[39m\u001b[39m'\u001b[39m\u001b[39mql_top.xy.nc\u001b[39m\u001b[39m'\u001b[39m,path\u001b[39m+\u001b[39m\u001b[39m'\u001b[39m\u001b[39mqt.xy.nc\u001b[39m\u001b[39m'\u001b[39m,path\u001b[39m+\u001b[39m\u001b[39m'\u001b[39m\u001b[39mu.xy.nc\u001b[39m\u001b[39m'\u001b[39m,\\\n\u001b[1;32m      <a href='vscode-notebook-cell://ssh-remote%2Bascend.osc.edu/fs/ess/PFS0220/python_files/EUREC4A/dephy_converter.ipynb#W1sdnNjb2RlLXJlbW90ZQ%3D%3D?line=7'>8</a>\u001b[0m             path\u001b[39m+\u001b[39m\u001b[39m'\u001b[39m\u001b[39mv.xy.nc\u001b[39m\u001b[39m'\u001b[39m,path\u001b[39m+\u001b[39m\u001b[39m'\u001b[39m\u001b[39mrr_bot.xy.nc\u001b[39m\u001b[39m'\u001b[39m,path\u001b[39m+\u001b[39m\u001b[39m'\u001b[39m\u001b[39mzi_touze.xy.nc\u001b[39m\u001b[39m'\u001b[39m]\n\u001b[1;32m      <a href='vscode-notebook-cell://ssh-remote%2Bascend.osc.edu/fs/ess/PFS0220/python_files/EUREC4A/dephy_converter.ipynb#W1sdnNjb2RlLXJlbW90ZQ%3D%3D?line=8'>9</a>\u001b[0m ds\u001b[39m=\u001b[39mxr\u001b[39m.\u001b[39mopen_mfdataset(files_2d,combine\u001b[39m=\u001b[39m\u001b[39m'\u001b[39m\u001b[39mby_coords\u001b[39m\u001b[39m'\u001b[39m,decode_times\u001b[39m=\u001b[39m\u001b[39mFalse\u001b[39;00m)\n\u001b[0;32m---> <a href='vscode-notebook-cell://ssh-remote%2Bascend.osc.edu/fs/ess/PFS0220/python_files/EUREC4A/dephy_converter.ipynb#W1sdnNjb2RlLXJlbW90ZQ%3D%3D?line=9'>10</a>\u001b[0m ds\u001b[39m.\u001b[39;49mto_netcdf(\u001b[39m'\u001b[39;49m\u001b[39meurec4a_Feb2_512_200m_12kmtop_nudged6hr_2d.nc\u001b[39;49m\u001b[39m'\u001b[39;49m)\n",
      "File \u001b[0;32m~/.conda/envs/local/lib/python3.9/site-packages/xarray/core/dataset.py:2252\u001b[0m, in \u001b[0;36mDataset.to_netcdf\u001b[0;34m(self, path, mode, format, group, engine, encoding, unlimited_dims, compute, invalid_netcdf)\u001b[0m\n\u001b[1;32m   2249\u001b[0m     encoding \u001b[39m=\u001b[39m {}\n\u001b[1;32m   2250\u001b[0m \u001b[39mfrom\u001b[39;00m \u001b[39mxarray\u001b[39;00m\u001b[39m.\u001b[39;00m\u001b[39mbackends\u001b[39;00m\u001b[39m.\u001b[39;00m\u001b[39mapi\u001b[39;00m \u001b[39mimport\u001b[39;00m to_netcdf\n\u001b[0;32m-> 2252\u001b[0m \u001b[39mreturn\u001b[39;00m to_netcdf(  \u001b[39m# type: ignore  # mypy cannot resolve the overloads:(\u001b[39;49;00m\n\u001b[1;32m   2253\u001b[0m     \u001b[39mself\u001b[39;49m,\n\u001b[1;32m   2254\u001b[0m     path,\n\u001b[1;32m   2255\u001b[0m     mode\u001b[39m=\u001b[39;49mmode,\n\u001b[1;32m   2256\u001b[0m     \u001b[39mformat\u001b[39;49m\u001b[39m=\u001b[39;49m\u001b[39mformat\u001b[39;49m,\n\u001b[1;32m   2257\u001b[0m     group\u001b[39m=\u001b[39;49mgroup,\n\u001b[1;32m   2258\u001b[0m     engine\u001b[39m=\u001b[39;49mengine,\n\u001b[1;32m   2259\u001b[0m     encoding\u001b[39m=\u001b[39;49mencoding,\n\u001b[1;32m   2260\u001b[0m     unlimited_dims\u001b[39m=\u001b[39;49munlimited_dims,\n\u001b[1;32m   2261\u001b[0m     compute\u001b[39m=\u001b[39;49mcompute,\n\u001b[1;32m   2262\u001b[0m     multifile\u001b[39m=\u001b[39;49m\u001b[39mFalse\u001b[39;49;00m,\n\u001b[1;32m   2263\u001b[0m     invalid_netcdf\u001b[39m=\u001b[39;49minvalid_netcdf,\n\u001b[1;32m   2264\u001b[0m )\n",
      "File \u001b[0;32m~/.conda/envs/local/lib/python3.9/site-packages/xarray/backends/api.py:1255\u001b[0m, in \u001b[0;36mto_netcdf\u001b[0;34m(dataset, path_or_file, mode, format, group, engine, encoding, unlimited_dims, compute, multifile, invalid_netcdf)\u001b[0m\n\u001b[1;32m   1252\u001b[0m \u001b[39mif\u001b[39;00m multifile:\n\u001b[1;32m   1253\u001b[0m     \u001b[39mreturn\u001b[39;00m writer, store\n\u001b[0;32m-> 1255\u001b[0m writes \u001b[39m=\u001b[39m writer\u001b[39m.\u001b[39;49msync(compute\u001b[39m=\u001b[39;49mcompute)\n\u001b[1;32m   1257\u001b[0m \u001b[39mif\u001b[39;00m \u001b[39misinstance\u001b[39m(target, BytesIO):\n\u001b[1;32m   1258\u001b[0m     store\u001b[39m.\u001b[39msync()\n",
      "File \u001b[0;32m~/.conda/envs/local/lib/python3.9/site-packages/xarray/backends/common.py:256\u001b[0m, in \u001b[0;36mArrayWriter.sync\u001b[0;34m(self, compute, chunkmanager_store_kwargs)\u001b[0m\n\u001b[1;32m    253\u001b[0m \u001b[39mif\u001b[39;00m chunkmanager_store_kwargs \u001b[39mis\u001b[39;00m \u001b[39mNone\u001b[39;00m:\n\u001b[1;32m    254\u001b[0m     chunkmanager_store_kwargs \u001b[39m=\u001b[39m {}\n\u001b[0;32m--> 256\u001b[0m delayed_store \u001b[39m=\u001b[39m chunkmanager\u001b[39m.\u001b[39;49mstore(\n\u001b[1;32m    257\u001b[0m     \u001b[39mself\u001b[39;49m\u001b[39m.\u001b[39;49msources,\n\u001b[1;32m    258\u001b[0m     \u001b[39mself\u001b[39;49m\u001b[39m.\u001b[39;49mtargets,\n\u001b[1;32m    259\u001b[0m     lock\u001b[39m=\u001b[39;49m\u001b[39mself\u001b[39;49m\u001b[39m.\u001b[39;49mlock,\n\u001b[1;32m    260\u001b[0m     compute\u001b[39m=\u001b[39;49mcompute,\n\u001b[1;32m    261\u001b[0m     flush\u001b[39m=\u001b[39;49m\u001b[39mTrue\u001b[39;49;00m,\n\u001b[1;32m    262\u001b[0m     regions\u001b[39m=\u001b[39;49m\u001b[39mself\u001b[39;49m\u001b[39m.\u001b[39;49mregions,\n\u001b[1;32m    263\u001b[0m     \u001b[39m*\u001b[39;49m\u001b[39m*\u001b[39;49mchunkmanager_store_kwargs,\n\u001b[1;32m    264\u001b[0m )\n\u001b[1;32m    265\u001b[0m \u001b[39mself\u001b[39m\u001b[39m.\u001b[39msources \u001b[39m=\u001b[39m []\n\u001b[1;32m    266\u001b[0m \u001b[39mself\u001b[39m\u001b[39m.\u001b[39mtargets \u001b[39m=\u001b[39m []\n",
      "File \u001b[0;32m~/.conda/envs/local/lib/python3.9/site-packages/xarray/core/daskmanager.py:211\u001b[0m, in \u001b[0;36mDaskManager.store\u001b[0;34m(self, sources, targets, **kwargs)\u001b[0m\n\u001b[1;32m    203\u001b[0m \u001b[39mdef\u001b[39;00m \u001b[39mstore\u001b[39m(\n\u001b[1;32m    204\u001b[0m     \u001b[39mself\u001b[39m,\n\u001b[1;32m    205\u001b[0m     sources: DaskArray \u001b[39m|\u001b[39m Sequence[DaskArray],\n\u001b[1;32m    206\u001b[0m     targets: Any,\n\u001b[1;32m    207\u001b[0m     \u001b[39m*\u001b[39m\u001b[39m*\u001b[39mkwargs,\n\u001b[1;32m    208\u001b[0m ):\n\u001b[1;32m    209\u001b[0m     \u001b[39mfrom\u001b[39;00m \u001b[39mdask\u001b[39;00m\u001b[39m.\u001b[39;00m\u001b[39marray\u001b[39;00m \u001b[39mimport\u001b[39;00m store\n\u001b[0;32m--> 211\u001b[0m     \u001b[39mreturn\u001b[39;00m store(\n\u001b[1;32m    212\u001b[0m         sources\u001b[39m=\u001b[39;49msources,\n\u001b[1;32m    213\u001b[0m         targets\u001b[39m=\u001b[39;49mtargets,\n\u001b[1;32m    214\u001b[0m         \u001b[39m*\u001b[39;49m\u001b[39m*\u001b[39;49mkwargs,\n\u001b[1;32m    215\u001b[0m     )\n",
      "File \u001b[0;32m~/.conda/envs/local/lib/python3.9/site-packages/dask/array/core.py:1236\u001b[0m, in \u001b[0;36mstore\u001b[0;34m(***failed resolving arguments***)\u001b[0m\n\u001b[1;32m   1234\u001b[0m \u001b[39melif\u001b[39;00m compute:\n\u001b[1;32m   1235\u001b[0m     store_dsk \u001b[39m=\u001b[39m HighLevelGraph(layers, dependencies)\n\u001b[0;32m-> 1236\u001b[0m     compute_as_if_collection(Array, store_dsk, map_keys, \u001b[39m*\u001b[39;49m\u001b[39m*\u001b[39;49mkwargs)\n\u001b[1;32m   1237\u001b[0m     \u001b[39mreturn\u001b[39;00m \u001b[39mNone\u001b[39;00m\n\u001b[1;32m   1239\u001b[0m \u001b[39melse\u001b[39;00m:\n",
      "File \u001b[0;32m~/.conda/envs/local/lib/python3.9/site-packages/dask/base.py:342\u001b[0m, in \u001b[0;36mcompute_as_if_collection\u001b[0;34m(cls, dsk, keys, scheduler, get, **kwargs)\u001b[0m\n\u001b[1;32m    340\u001b[0m schedule \u001b[39m=\u001b[39m get_scheduler(scheduler\u001b[39m=\u001b[39mscheduler, \u001b[39mcls\u001b[39m\u001b[39m=\u001b[39m\u001b[39mcls\u001b[39m, get\u001b[39m=\u001b[39mget)\n\u001b[1;32m    341\u001b[0m dsk2 \u001b[39m=\u001b[39m optimization_function(\u001b[39mcls\u001b[39m)(dsk, keys, \u001b[39m*\u001b[39m\u001b[39m*\u001b[39mkwargs)\n\u001b[0;32m--> 342\u001b[0m \u001b[39mreturn\u001b[39;00m schedule(dsk2, keys, \u001b[39m*\u001b[39;49m\u001b[39m*\u001b[39;49mkwargs)\n",
      "File \u001b[0;32m~/.conda/envs/local/lib/python3.9/site-packages/dask/threaded.py:89\u001b[0m, in \u001b[0;36mget\u001b[0;34m(dsk, keys, cache, num_workers, pool, **kwargs)\u001b[0m\n\u001b[1;32m     86\u001b[0m     \u001b[39melif\u001b[39;00m \u001b[39misinstance\u001b[39m(pool, multiprocessing\u001b[39m.\u001b[39mpool\u001b[39m.\u001b[39mPool):\n\u001b[1;32m     87\u001b[0m         pool \u001b[39m=\u001b[39m MultiprocessingPoolExecutor(pool)\n\u001b[0;32m---> 89\u001b[0m results \u001b[39m=\u001b[39m get_async(\n\u001b[1;32m     90\u001b[0m     pool\u001b[39m.\u001b[39;49msubmit,\n\u001b[1;32m     91\u001b[0m     pool\u001b[39m.\u001b[39;49m_max_workers,\n\u001b[1;32m     92\u001b[0m     dsk,\n\u001b[1;32m     93\u001b[0m     keys,\n\u001b[1;32m     94\u001b[0m     cache\u001b[39m=\u001b[39;49mcache,\n\u001b[1;32m     95\u001b[0m     get_id\u001b[39m=\u001b[39;49m_thread_get_id,\n\u001b[1;32m     96\u001b[0m     pack_exception\u001b[39m=\u001b[39;49mpack_exception,\n\u001b[1;32m     97\u001b[0m     \u001b[39m*\u001b[39;49m\u001b[39m*\u001b[39;49mkwargs,\n\u001b[1;32m     98\u001b[0m )\n\u001b[1;32m    100\u001b[0m \u001b[39m# Cleanup pools associated to dead threads\u001b[39;00m\n\u001b[1;32m    101\u001b[0m \u001b[39mwith\u001b[39;00m pools_lock:\n",
      "File \u001b[0;32m~/.conda/envs/local/lib/python3.9/site-packages/dask/local.py:500\u001b[0m, in \u001b[0;36mget_async\u001b[0;34m(submit, num_workers, dsk, result, cache, get_id, rerun_exceptions_locally, pack_exception, raise_exception, callbacks, dumps, loads, chunksize, **kwargs)\u001b[0m\n\u001b[1;32m    498\u001b[0m \u001b[39mwhile\u001b[39;00m state[\u001b[39m\"\u001b[39m\u001b[39mwaiting\u001b[39m\u001b[39m\"\u001b[39m] \u001b[39mor\u001b[39;00m state[\u001b[39m\"\u001b[39m\u001b[39mready\u001b[39m\u001b[39m\"\u001b[39m] \u001b[39mor\u001b[39;00m state[\u001b[39m\"\u001b[39m\u001b[39mrunning\u001b[39m\u001b[39m\"\u001b[39m]:\n\u001b[1;32m    499\u001b[0m     fire_tasks(chunksize)\n\u001b[0;32m--> 500\u001b[0m     \u001b[39mfor\u001b[39;00m key, res_info, failed \u001b[39min\u001b[39;00m queue_get(queue)\u001b[39m.\u001b[39mresult():\n\u001b[1;32m    501\u001b[0m         \u001b[39mif\u001b[39;00m failed:\n\u001b[1;32m    502\u001b[0m             exc, tb \u001b[39m=\u001b[39m loads(res_info)\n",
      "File \u001b[0;32m~/.conda/envs/local/lib/python3.9/site-packages/dask/local.py:137\u001b[0m, in \u001b[0;36mqueue_get\u001b[0;34m(q)\u001b[0m\n\u001b[1;32m    136\u001b[0m \u001b[39mdef\u001b[39;00m \u001b[39mqueue_get\u001b[39m(q):\n\u001b[0;32m--> 137\u001b[0m     \u001b[39mreturn\u001b[39;00m q\u001b[39m.\u001b[39;49mget()\n",
      "File \u001b[0;32m~/.conda/envs/local/lib/python3.9/queue.py:171\u001b[0m, in \u001b[0;36mQueue.get\u001b[0;34m(self, block, timeout)\u001b[0m\n\u001b[1;32m    169\u001b[0m \u001b[39melif\u001b[39;00m timeout \u001b[39mis\u001b[39;00m \u001b[39mNone\u001b[39;00m:\n\u001b[1;32m    170\u001b[0m     \u001b[39mwhile\u001b[39;00m \u001b[39mnot\u001b[39;00m \u001b[39mself\u001b[39m\u001b[39m.\u001b[39m_qsize():\n\u001b[0;32m--> 171\u001b[0m         \u001b[39mself\u001b[39;49m\u001b[39m.\u001b[39;49mnot_empty\u001b[39m.\u001b[39;49mwait()\n\u001b[1;32m    172\u001b[0m \u001b[39melif\u001b[39;00m timeout \u001b[39m<\u001b[39m \u001b[39m0\u001b[39m:\n\u001b[1;32m    173\u001b[0m     \u001b[39mraise\u001b[39;00m \u001b[39mValueError\u001b[39;00m(\u001b[39m\"\u001b[39m\u001b[39m'\u001b[39m\u001b[39mtimeout\u001b[39m\u001b[39m'\u001b[39m\u001b[39m must be a non-negative number\u001b[39m\u001b[39m\"\u001b[39m)\n",
      "File \u001b[0;32m~/.conda/envs/local/lib/python3.9/threading.py:312\u001b[0m, in \u001b[0;36mCondition.wait\u001b[0;34m(self, timeout)\u001b[0m\n\u001b[1;32m    310\u001b[0m \u001b[39mtry\u001b[39;00m:    \u001b[39m# restore state no matter what (e.g., KeyboardInterrupt)\u001b[39;00m\n\u001b[1;32m    311\u001b[0m     \u001b[39mif\u001b[39;00m timeout \u001b[39mis\u001b[39;00m \u001b[39mNone\u001b[39;00m:\n\u001b[0;32m--> 312\u001b[0m         waiter\u001b[39m.\u001b[39;49macquire()\n\u001b[1;32m    313\u001b[0m         gotit \u001b[39m=\u001b[39m \u001b[39mTrue\u001b[39;00m\n\u001b[1;32m    314\u001b[0m     \u001b[39melse\u001b[39;00m:\n",
      "\u001b[0;31mKeyboardInterrupt\u001b[0m: "
     ]
    }
   ],
   "source": [
    "import xarray as xr\n",
    "import numpy as np\n",
    "import matplotlib.pyplot as pl\n",
    "from netCDF4 import Dataset\n",
    "\n",
    "path='/fs/ess/PFS0220/eurec4a/Case_Runs/Control_Runs/Feb_2nd/'\n",
    "files_2d = [path+'ql_path.xy.nc',path+'qr_path.xy.nc',path+'thl.xy.nc',path+'ql_base.xy.nc',path+'ql_top.xy.nc',path+'qt.xy.nc',path+'u.xy.nc',\\\n",
    "            path+'v.xy.nc',path+'rr_bot.xy.nc',path+'zi_touze.xy.nc']\n",
    "ds=xr.open_mfdataset(files_2d,combine='by_coords',decode_times=False)\n",
    "ds.to_netcdf('eurec4a_Feb2_512_200m_12kmtop_nudged6hr_2d.nc')"
   ]
  },
  {
   "cell_type": "code",
   "execution_count": null,
   "metadata": {},
   "outputs": [],
   "source": []
  }
 ],
 "metadata": {
  "kernelspec": {
   "display_name": "Python 3",
   "language": "python",
   "name": "python3"
  },
  "language_info": {
   "codemirror_mode": {
    "name": "ipython",
    "version": 3
   },
   "file_extension": ".py",
   "mimetype": "text/x-python",
   "name": "python",
   "nbconvert_exporter": "python",
   "pygments_lexer": "ipython3",
   "version": "3.6.8"
  }
 },
 "nbformat": 4,
 "nbformat_minor": 2
}
